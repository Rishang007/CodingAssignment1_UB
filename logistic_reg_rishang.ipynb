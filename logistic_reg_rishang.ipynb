{
 "cells": [
  {
   "cell_type": "code",
   "execution_count": 1,
   "id": "81c2bf3f",
   "metadata": {},
   "outputs": [],
   "source": [
    "import pandas as pd\n",
    "import numpy as np\n",
    "import matplotlib.pyplot as plt"
   ]
  },
  {
   "cell_type": "markdown",
   "id": "738af9d9",
   "metadata": {},
   "source": [
    "## importing the dataset\n"
   ]
  },
  {
   "cell_type": "code",
   "execution_count": 2,
   "id": "f1488a21",
   "metadata": {},
   "outputs": [],
   "source": [
    "penguins = pd.read_csv(\"/Users/rishangprashnani/Library/Mobile Documents/com~apple~CloudDocs/Class work/Machine learning /coding assignment 1/datasets/penguins.csv\")"
   ]
  },
  {
   "cell_type": "markdown",
   "id": "d13fc232",
   "metadata": {},
   "source": [
    "# Main Statistics and information about the wine quality dataset"
   ]
  },
  {
   "cell_type": "markdown",
   "id": "d81e84b3",
   "metadata": {},
   "source": [
    "***"
   ]
  },
  {
   "cell_type": "markdown",
   "id": "c7e89775",
   "metadata": {},
   "source": [
    "## Top rows of the dataframe (general idea of the dataframe)"
   ]
  },
  {
   "cell_type": "code",
   "execution_count": 3,
   "id": "6a6262e6",
   "metadata": {},
   "outputs": [
    {
     "data": {
      "text/html": [
       "<div>\n",
       "<style scoped>\n",
       "    .dataframe tbody tr th:only-of-type {\n",
       "        vertical-align: middle;\n",
       "    }\n",
       "\n",
       "    .dataframe tbody tr th {\n",
       "        vertical-align: top;\n",
       "    }\n",
       "\n",
       "    .dataframe thead th {\n",
       "        text-align: right;\n",
       "    }\n",
       "</style>\n",
       "<table border=\"1\" class=\"dataframe\">\n",
       "  <thead>\n",
       "    <tr style=\"text-align: right;\">\n",
       "      <th></th>\n",
       "      <th>species</th>\n",
       "      <th>island</th>\n",
       "      <th>bill_length_mm</th>\n",
       "      <th>bill_depth_mm</th>\n",
       "      <th>flipper_length_mm</th>\n",
       "      <th>body_mass_g</th>\n",
       "      <th>sex</th>\n",
       "      <th>year</th>\n",
       "    </tr>\n",
       "  </thead>\n",
       "  <tbody>\n",
       "    <tr>\n",
       "      <th>0</th>\n",
       "      <td>Adelie</td>\n",
       "      <td>Torgersen</td>\n",
       "      <td>39.1</td>\n",
       "      <td>18.7</td>\n",
       "      <td>181.0</td>\n",
       "      <td>3750.0</td>\n",
       "      <td>male</td>\n",
       "      <td>2007</td>\n",
       "    </tr>\n",
       "    <tr>\n",
       "      <th>1</th>\n",
       "      <td>Adelie</td>\n",
       "      <td>Torgersen</td>\n",
       "      <td>39.5</td>\n",
       "      <td>17.4</td>\n",
       "      <td>186.0</td>\n",
       "      <td>3800.0</td>\n",
       "      <td>female</td>\n",
       "      <td>2007</td>\n",
       "    </tr>\n",
       "    <tr>\n",
       "      <th>2</th>\n",
       "      <td>Adelie</td>\n",
       "      <td>Torgersen</td>\n",
       "      <td>40.3</td>\n",
       "      <td>18.0</td>\n",
       "      <td>195.0</td>\n",
       "      <td>3250.0</td>\n",
       "      <td>female</td>\n",
       "      <td>2007</td>\n",
       "    </tr>\n",
       "    <tr>\n",
       "      <th>3</th>\n",
       "      <td>Adelie</td>\n",
       "      <td>Torgersen</td>\n",
       "      <td>NaN</td>\n",
       "      <td>NaN</td>\n",
       "      <td>NaN</td>\n",
       "      <td>NaN</td>\n",
       "      <td>NaN</td>\n",
       "      <td>2007</td>\n",
       "    </tr>\n",
       "    <tr>\n",
       "      <th>4</th>\n",
       "      <td>Adelie</td>\n",
       "      <td>Torgersen</td>\n",
       "      <td>36.7</td>\n",
       "      <td>19.3</td>\n",
       "      <td>193.0</td>\n",
       "      <td>3450.0</td>\n",
       "      <td>female</td>\n",
       "      <td>2007</td>\n",
       "    </tr>\n",
       "  </tbody>\n",
       "</table>\n",
       "</div>"
      ],
      "text/plain": [
       "  species     island  bill_length_mm  bill_depth_mm  flipper_length_mm  \\\n",
       "0  Adelie  Torgersen            39.1           18.7              181.0   \n",
       "1  Adelie  Torgersen            39.5           17.4              186.0   \n",
       "2  Adelie  Torgersen            40.3           18.0              195.0   \n",
       "3  Adelie  Torgersen             NaN            NaN                NaN   \n",
       "4  Adelie  Torgersen            36.7           19.3              193.0   \n",
       "\n",
       "   body_mass_g     sex  year  \n",
       "0       3750.0    male  2007  \n",
       "1       3800.0  female  2007  \n",
       "2       3250.0  female  2007  \n",
       "3          NaN     NaN  2007  \n",
       "4       3450.0  female  2007  "
      ]
     },
     "execution_count": 3,
     "metadata": {},
     "output_type": "execute_result"
    }
   ],
   "source": [
    "penguins.head()"
   ]
  },
  {
   "cell_type": "markdown",
   "id": "c95f07fa",
   "metadata": {},
   "source": [
    "### Number of rows and columns (shape)"
   ]
  },
  {
   "cell_type": "code",
   "execution_count": 4,
   "id": "64fdf506",
   "metadata": {},
   "outputs": [
    {
     "name": "stdout",
     "output_type": "stream",
     "text": [
      "No. of rows and columns (344, 8)\n"
     ]
    }
   ],
   "source": [
    "print(\"No. of rows and columns\", penguins.shape)"
   ]
  },
  {
   "cell_type": "markdown",
   "id": "4ca245cc",
   "metadata": {},
   "source": [
    "### Name of all the columns "
   ]
  },
  {
   "cell_type": "code",
   "execution_count": 5,
   "id": "2d3888cb",
   "metadata": {},
   "outputs": [
    {
     "name": "stdout",
     "output_type": "stream",
     "text": [
      "['species' 'island' 'bill_length_mm' 'bill_depth_mm' 'flipper_length_mm'\n",
      " 'body_mass_g' 'sex' 'year']\n"
     ]
    }
   ],
   "source": [
    "print(penguins.columns.values)"
   ]
  },
  {
   "cell_type": "markdown",
   "id": "0da09d93",
   "metadata": {},
   "source": [
    "### Sex is our output value (y-value)**\n",
    "\n",
    "### Rest are the attributes/features  (x-value)**"
   ]
  },
  {
   "cell_type": "markdown",
   "id": "7a8fbb41",
   "metadata": {},
   "source": [
    "### Size of the dataframe ( no. of elements)"
   ]
  },
  {
   "cell_type": "code",
   "execution_count": 6,
   "id": "41ef9491",
   "metadata": {},
   "outputs": [
    {
     "data": {
      "text/plain": [
       "2752"
      ]
     },
     "execution_count": 6,
     "metadata": {},
     "output_type": "execute_result"
    }
   ],
   "source": [
    "penguins.size"
   ]
  },
  {
   "cell_type": "markdown",
   "id": "9734a797",
   "metadata": {},
   "source": [
    "### Main Statistics"
   ]
  },
  {
   "cell_type": "code",
   "execution_count": 7,
   "id": "084280d7",
   "metadata": {},
   "outputs": [
    {
     "data": {
      "text/html": [
       "<div>\n",
       "<style scoped>\n",
       "    .dataframe tbody tr th:only-of-type {\n",
       "        vertical-align: middle;\n",
       "    }\n",
       "\n",
       "    .dataframe tbody tr th {\n",
       "        vertical-align: top;\n",
       "    }\n",
       "\n",
       "    .dataframe thead th {\n",
       "        text-align: right;\n",
       "    }\n",
       "</style>\n",
       "<table border=\"1\" class=\"dataframe\">\n",
       "  <thead>\n",
       "    <tr style=\"text-align: right;\">\n",
       "      <th></th>\n",
       "      <th>bill_length_mm</th>\n",
       "      <th>bill_depth_mm</th>\n",
       "      <th>flipper_length_mm</th>\n",
       "      <th>body_mass_g</th>\n",
       "      <th>year</th>\n",
       "    </tr>\n",
       "  </thead>\n",
       "  <tbody>\n",
       "    <tr>\n",
       "      <th>count</th>\n",
       "      <td>342.000000</td>\n",
       "      <td>342.000000</td>\n",
       "      <td>342.000000</td>\n",
       "      <td>342.000000</td>\n",
       "      <td>344.000000</td>\n",
       "    </tr>\n",
       "    <tr>\n",
       "      <th>mean</th>\n",
       "      <td>43.921930</td>\n",
       "      <td>17.151170</td>\n",
       "      <td>200.915205</td>\n",
       "      <td>4201.754386</td>\n",
       "      <td>2008.029070</td>\n",
       "    </tr>\n",
       "    <tr>\n",
       "      <th>std</th>\n",
       "      <td>5.459584</td>\n",
       "      <td>1.974793</td>\n",
       "      <td>14.061714</td>\n",
       "      <td>801.954536</td>\n",
       "      <td>0.818356</td>\n",
       "    </tr>\n",
       "    <tr>\n",
       "      <th>min</th>\n",
       "      <td>32.100000</td>\n",
       "      <td>13.100000</td>\n",
       "      <td>172.000000</td>\n",
       "      <td>2700.000000</td>\n",
       "      <td>2007.000000</td>\n",
       "    </tr>\n",
       "    <tr>\n",
       "      <th>25%</th>\n",
       "      <td>39.225000</td>\n",
       "      <td>15.600000</td>\n",
       "      <td>190.000000</td>\n",
       "      <td>3550.000000</td>\n",
       "      <td>2007.000000</td>\n",
       "    </tr>\n",
       "    <tr>\n",
       "      <th>50%</th>\n",
       "      <td>44.450000</td>\n",
       "      <td>17.300000</td>\n",
       "      <td>197.000000</td>\n",
       "      <td>4050.000000</td>\n",
       "      <td>2008.000000</td>\n",
       "    </tr>\n",
       "    <tr>\n",
       "      <th>75%</th>\n",
       "      <td>48.500000</td>\n",
       "      <td>18.700000</td>\n",
       "      <td>213.000000</td>\n",
       "      <td>4750.000000</td>\n",
       "      <td>2009.000000</td>\n",
       "    </tr>\n",
       "    <tr>\n",
       "      <th>max</th>\n",
       "      <td>59.600000</td>\n",
       "      <td>21.500000</td>\n",
       "      <td>231.000000</td>\n",
       "      <td>6300.000000</td>\n",
       "      <td>2009.000000</td>\n",
       "    </tr>\n",
       "  </tbody>\n",
       "</table>\n",
       "</div>"
      ],
      "text/plain": [
       "       bill_length_mm  bill_depth_mm  flipper_length_mm  body_mass_g  \\\n",
       "count      342.000000     342.000000         342.000000   342.000000   \n",
       "mean        43.921930      17.151170         200.915205  4201.754386   \n",
       "std          5.459584       1.974793          14.061714   801.954536   \n",
       "min         32.100000      13.100000         172.000000  2700.000000   \n",
       "25%         39.225000      15.600000         190.000000  3550.000000   \n",
       "50%         44.450000      17.300000         197.000000  4050.000000   \n",
       "75%         48.500000      18.700000         213.000000  4750.000000   \n",
       "max         59.600000      21.500000         231.000000  6300.000000   \n",
       "\n",
       "              year  \n",
       "count   344.000000  \n",
       "mean   2008.029070  \n",
       "std       0.818356  \n",
       "min    2007.000000  \n",
       "25%    2007.000000  \n",
       "50%    2008.000000  \n",
       "75%    2009.000000  \n",
       "max    2009.000000  "
      ]
     },
     "execution_count": 7,
     "metadata": {},
     "output_type": "execute_result"
    }
   ],
   "source": [
    "penguins.describe()"
   ]
  },
  {
   "cell_type": "markdown",
   "id": "16975c7f",
   "metadata": {},
   "source": [
    "### A concise summary of a DataFrame"
   ]
  },
  {
   "cell_type": "code",
   "execution_count": 8,
   "id": "98a50a23",
   "metadata": {},
   "outputs": [
    {
     "name": "stdout",
     "output_type": "stream",
     "text": [
      "<class 'pandas.core.frame.DataFrame'>\n",
      "RangeIndex: 344 entries, 0 to 343\n",
      "Data columns (total 8 columns):\n",
      " #   Column             Non-Null Count  Dtype  \n",
      "---  ------             --------------  -----  \n",
      " 0   species            344 non-null    object \n",
      " 1   island             344 non-null    object \n",
      " 2   bill_length_mm     342 non-null    float64\n",
      " 3   bill_depth_mm      342 non-null    float64\n",
      " 4   flipper_length_mm  342 non-null    float64\n",
      " 5   body_mass_g        342 non-null    float64\n",
      " 6   sex                333 non-null    object \n",
      " 7   year               344 non-null    int64  \n",
      "dtypes: float64(4), int64(1), object(3)\n",
      "memory usage: 21.6+ KB\n"
     ]
    }
   ],
   "source": [
    "penguins.info()"
   ]
  },
  {
   "cell_type": "code",
   "execution_count": null,
   "id": "60899e34",
   "metadata": {},
   "outputs": [],
   "source": []
  },
  {
   "cell_type": "markdown",
   "id": "f3487152",
   "metadata": {},
   "source": [
    "## Convert string to categorical type"
   ]
  },
  {
   "cell_type": "code",
   "execution_count": 9,
   "id": "b3b3cf0c",
   "metadata": {},
   "outputs": [
    {
     "data": {
      "text/plain": [
       "species              category\n",
       "island               category\n",
       "bill_length_mm        float64\n",
       "bill_depth_mm         float64\n",
       "flipper_length_mm     float64\n",
       "body_mass_g           float64\n",
       "sex                  category\n",
       "year                 category\n",
       "dtype: object"
      ]
     },
     "execution_count": 9,
     "metadata": {},
     "output_type": "execute_result"
    }
   ],
   "source": [
    "penguins['island'] = penguins['island'].astype('category')\n",
    "penguins['sex'] = penguins['sex'].astype('category')\n",
    "penguins['species'] = penguins['species'].astype('category')\n",
    "penguins['year'] = penguins['year'].astype('category')\n",
    "penguins.dtypes"
   ]
  },
  {
   "cell_type": "markdown",
   "id": "10595bda",
   "metadata": {},
   "source": [
    "## Null values "
   ]
  },
  {
   "cell_type": "code",
   "execution_count": 10,
   "id": "2efe618d",
   "metadata": {},
   "outputs": [
    {
     "data": {
      "text/plain": [
       "species               0\n",
       "island                0\n",
       "bill_length_mm        2\n",
       "bill_depth_mm         2\n",
       "flipper_length_mm     2\n",
       "body_mass_g           2\n",
       "sex                  11\n",
       "year                  0\n",
       "dtype: int64"
      ]
     },
     "execution_count": 10,
     "metadata": {},
     "output_type": "execute_result"
    }
   ],
   "source": [
    "penguins.isnull().sum()"
   ]
  },
  {
   "cell_type": "markdown",
   "id": "610c1ce7",
   "metadata": {},
   "source": [
    "#### we will mode function to find the most frequent value (rejected method)\n",
    "\n",
    "penguins['bill_length_mm'].fillna( penguins['bill_length_mm'].mode()[0] ,inplace=True)\n",
    "penguins['bill_depth_mm'].fillna( penguins['bill_depth_mm'].mode()[0] ,inplace=True)\n",
    "penguins['flipper_length_mm'].fillna( penguins['flipper_length_mm'].mode()[0] ,inplace=True)\n",
    "penguins['body_mass_g'].fillna( penguins['body_mass_g'].mode()[0] ,inplace=True)\n",
    "penguins['sex'].fillna( penguins['sex'].mode()[0] ,inplace=True)"
   ]
  },
  {
   "cell_type": "markdown",
   "id": "3a82b7f7",
   "metadata": {},
   "source": [
    "### filling null values with mean of values before and after. \n",
    "### filling null values of target variable with most frequent"
   ]
  },
  {
   "cell_type": "code",
   "execution_count": 11,
   "id": "a89278bd",
   "metadata": {},
   "outputs": [
    {
     "name": "stderr",
     "output_type": "stream",
     "text": [
      "/var/folders/ff/y9m6qnj92x5dhd35k6lp3k040000gn/T/ipykernel_6302/1992638768.py:4: SettingWithCopyWarning: \n",
      "A value is trying to be set on a copy of a slice from a DataFrame\n",
      "\n",
      "See the caveats in the documentation: https://pandas.pydata.org/pandas-docs/stable/user_guide/indexing.html#returning-a-view-versus-a-copy\n",
      "  penguins['bill_length_mm'].iloc[i] = (penguins['bill_length_mm'].iloc[i-1] + penguins['bill_length_mm'].iloc[i+1]) / 2\n",
      "/var/folders/ff/y9m6qnj92x5dhd35k6lp3k040000gn/T/ipykernel_6302/1992638768.py:8: SettingWithCopyWarning: \n",
      "A value is trying to be set on a copy of a slice from a DataFrame\n",
      "\n",
      "See the caveats in the documentation: https://pandas.pydata.org/pandas-docs/stable/user_guide/indexing.html#returning-a-view-versus-a-copy\n",
      "  penguins['bill_depth_mm'].iloc[i] = (penguins['bill_depth_mm'].iloc[i-1] + penguins['bill_depth_mm'].iloc[i+1]) / 2\n",
      "/var/folders/ff/y9m6qnj92x5dhd35k6lp3k040000gn/T/ipykernel_6302/1992638768.py:12: SettingWithCopyWarning: \n",
      "A value is trying to be set on a copy of a slice from a DataFrame\n",
      "\n",
      "See the caveats in the documentation: https://pandas.pydata.org/pandas-docs/stable/user_guide/indexing.html#returning-a-view-versus-a-copy\n",
      "  penguins['flipper_length_mm'].iloc[i] = (penguins['flipper_length_mm'].iloc[i-1] + penguins['flipper_length_mm'].iloc[i+1]) / 2\n",
      "/var/folders/ff/y9m6qnj92x5dhd35k6lp3k040000gn/T/ipykernel_6302/1992638768.py:16: SettingWithCopyWarning: \n",
      "A value is trying to be set on a copy of a slice from a DataFrame\n",
      "\n",
      "See the caveats in the documentation: https://pandas.pydata.org/pandas-docs/stable/user_guide/indexing.html#returning-a-view-versus-a-copy\n",
      "  penguins['body_mass_g'].iloc[i] = (penguins['body_mass_g'].iloc[i-1] + penguins['body_mass_g'].iloc[i+1]) / 2\n"
     ]
    }
   ],
   "source": [
    "num_rows = penguins['bill_length_mm'].shape\n",
    "for i in range(num_rows[0]):\n",
    "    if penguins['bill_length_mm'].isna().iloc[i] == True:\n",
    "        penguins['bill_length_mm'].iloc[i] = (penguins['bill_length_mm'].iloc[i-1] + penguins['bill_length_mm'].iloc[i+1]) / 2\n",
    "\n",
    "for i in range(num_rows[0]):\n",
    "    if penguins['bill_depth_mm'].isna().iloc[i] == True:\n",
    "        penguins['bill_depth_mm'].iloc[i] = (penguins['bill_depth_mm'].iloc[i-1] + penguins['bill_depth_mm'].iloc[i+1]) / 2\n",
    "\n",
    "for i in range(num_rows[0]):\n",
    "    if penguins['flipper_length_mm'].isna().iloc[i] == True:\n",
    "        penguins['flipper_length_mm'].iloc[i] = (penguins['flipper_length_mm'].iloc[i-1] + penguins['flipper_length_mm'].iloc[i+1]) / 2\n",
    "\n",
    "for i in range(num_rows[0]):\n",
    "    if penguins['body_mass_g'].isna().iloc[i] == True:\n",
    "        penguins['body_mass_g'].iloc[i] = (penguins['body_mass_g'].iloc[i-1] + penguins['body_mass_g'].iloc[i+1]) / 2\n",
    "\n",
    "for i in range(num_rows[0]):\n",
    "    if penguins['sex'].isna().iloc[i] == True:\n",
    "        penguins['sex'].iloc[i] = penguins['sex'].value_counts().idxmax()\n",
    "     \n"
   ]
  },
  {
   "cell_type": "code",
   "execution_count": 12,
   "id": "bf525a7a",
   "metadata": {},
   "outputs": [
    {
     "data": {
      "text/plain": [
       "species              0\n",
       "island               0\n",
       "bill_length_mm       0\n",
       "bill_depth_mm        0\n",
       "flipper_length_mm    0\n",
       "body_mass_g          0\n",
       "sex                  0\n",
       "year                 0\n",
       "dtype: int64"
      ]
     },
     "execution_count": 12,
     "metadata": {},
     "output_type": "execute_result"
    }
   ],
   "source": [
    "penguins.isnull().sum()"
   ]
  },
  {
   "cell_type": "markdown",
   "id": "be32a99c",
   "metadata": {},
   "source": [
    "## Normalizing non-categorical features"
   ]
  },
  {
   "cell_type": "code",
   "execution_count": 13,
   "id": "112eb067",
   "metadata": {},
   "outputs": [],
   "source": [
    "penguins['flipper_length_mm'] = (penguins['flipper_length_mm'] - penguins['flipper_length_mm'].min()) / (penguins['flipper_length_mm'].max() - penguins['flipper_length_mm'].min())\n",
    "penguins['body_mass_g'] = (penguins['body_mass_g'] - penguins['body_mass_g'].min()) / (penguins['body_mass_g'].max() - penguins['body_mass_g'].min())\n",
    "penguins['bill_depth_mm'] = (penguins['bill_depth_mm'] - penguins['bill_depth_mm'].min()) / (penguins['bill_depth_mm'].max() - penguins['bill_depth_mm'].min())\n",
    "penguins['bill_length_mm'] = (penguins['bill_length_mm'] - penguins['bill_length_mm'].min()) / (penguins['bill_length_mm'].max() - penguins['bill_length_mm'].min())     \n"
   ]
  },
  {
   "cell_type": "code",
   "execution_count": 14,
   "id": "6e444e1b",
   "metadata": {},
   "outputs": [
    {
     "data": {
      "text/html": [
       "<div>\n",
       "<style scoped>\n",
       "    .dataframe tbody tr th:only-of-type {\n",
       "        vertical-align: middle;\n",
       "    }\n",
       "\n",
       "    .dataframe tbody tr th {\n",
       "        vertical-align: top;\n",
       "    }\n",
       "\n",
       "    .dataframe thead th {\n",
       "        text-align: right;\n",
       "    }\n",
       "</style>\n",
       "<table border=\"1\" class=\"dataframe\">\n",
       "  <thead>\n",
       "    <tr style=\"text-align: right;\">\n",
       "      <th></th>\n",
       "      <th>species</th>\n",
       "      <th>island</th>\n",
       "      <th>bill_length_mm</th>\n",
       "      <th>bill_depth_mm</th>\n",
       "      <th>flipper_length_mm</th>\n",
       "      <th>body_mass_g</th>\n",
       "      <th>sex</th>\n",
       "      <th>year</th>\n",
       "    </tr>\n",
       "  </thead>\n",
       "  <tbody>\n",
       "    <tr>\n",
       "      <th>0</th>\n",
       "      <td>Adelie</td>\n",
       "      <td>Torgersen</td>\n",
       "      <td>0.254545</td>\n",
       "      <td>0.666667</td>\n",
       "      <td>0.152542</td>\n",
       "      <td>0.291667</td>\n",
       "      <td>male</td>\n",
       "      <td>2007</td>\n",
       "    </tr>\n",
       "    <tr>\n",
       "      <th>1</th>\n",
       "      <td>Adelie</td>\n",
       "      <td>Torgersen</td>\n",
       "      <td>0.269091</td>\n",
       "      <td>0.511905</td>\n",
       "      <td>0.237288</td>\n",
       "      <td>0.305556</td>\n",
       "      <td>female</td>\n",
       "      <td>2007</td>\n",
       "    </tr>\n",
       "    <tr>\n",
       "      <th>2</th>\n",
       "      <td>Adelie</td>\n",
       "      <td>Torgersen</td>\n",
       "      <td>0.298182</td>\n",
       "      <td>0.583333</td>\n",
       "      <td>0.389831</td>\n",
       "      <td>0.152778</td>\n",
       "      <td>female</td>\n",
       "      <td>2007</td>\n",
       "    </tr>\n",
       "    <tr>\n",
       "      <th>3</th>\n",
       "      <td>Adelie</td>\n",
       "      <td>Torgersen</td>\n",
       "      <td>0.232727</td>\n",
       "      <td>0.660714</td>\n",
       "      <td>0.372881</td>\n",
       "      <td>0.180556</td>\n",
       "      <td>male</td>\n",
       "      <td>2007</td>\n",
       "    </tr>\n",
       "    <tr>\n",
       "      <th>4</th>\n",
       "      <td>Adelie</td>\n",
       "      <td>Torgersen</td>\n",
       "      <td>0.167273</td>\n",
       "      <td>0.738095</td>\n",
       "      <td>0.355932</td>\n",
       "      <td>0.208333</td>\n",
       "      <td>female</td>\n",
       "      <td>2007</td>\n",
       "    </tr>\n",
       "  </tbody>\n",
       "</table>\n",
       "</div>"
      ],
      "text/plain": [
       "  species     island  bill_length_mm  bill_depth_mm  flipper_length_mm  \\\n",
       "0  Adelie  Torgersen        0.254545       0.666667           0.152542   \n",
       "1  Adelie  Torgersen        0.269091       0.511905           0.237288   \n",
       "2  Adelie  Torgersen        0.298182       0.583333           0.389831   \n",
       "3  Adelie  Torgersen        0.232727       0.660714           0.372881   \n",
       "4  Adelie  Torgersen        0.167273       0.738095           0.355932   \n",
       "\n",
       "   body_mass_g     sex  year  \n",
       "0     0.291667    male  2007  \n",
       "1     0.305556  female  2007  \n",
       "2     0.152778  female  2007  \n",
       "3     0.180556    male  2007  \n",
       "4     0.208333  female  2007  "
      ]
     },
     "execution_count": 14,
     "metadata": {},
     "output_type": "execute_result"
    }
   ],
   "source": [
    "penguins.head()"
   ]
  },
  {
   "cell_type": "code",
   "execution_count": 15,
   "id": "5da29f7c",
   "metadata": {},
   "outputs": [
    {
     "data": {
      "text/plain": [
       "island\n",
       "Biscoe       168\n",
       "Dream        124\n",
       "Torgersen     52\n",
       "Name: count, dtype: int64"
      ]
     },
     "execution_count": 15,
     "metadata": {},
     "output_type": "execute_result"
    }
   ],
   "source": [
    "penguins['island'].value_counts()"
   ]
  },
  {
   "cell_type": "markdown",
   "id": "a8ad4001",
   "metadata": {},
   "source": [
    "## Dataset Creation"
   ]
  },
  {
   "cell_type": "code",
   "execution_count": 16,
   "id": "8308739d",
   "metadata": {},
   "outputs": [
    {
     "name": "stdout",
     "output_type": "stream",
     "text": [
      "shape of actual values of dataset (344,)\n"
     ]
    }
   ],
   "source": [
    "Y = (penguins['sex']==\"male\").values.astype(np.float32)\n",
    "np.random.seed(14)\n",
    "Y = np.array(Y)    \n",
    "np.random.shuffle(Y)     #shuffling the dataset\n",
    "print(\"shape of actual values of dataset\", Y.shape)"
   ]
  },
  {
   "cell_type": "code",
   "execution_count": 17,
   "id": "011b49ae",
   "metadata": {},
   "outputs": [
    {
     "data": {
      "text/plain": [
       "species\n",
       "Adelie       152\n",
       "Gentoo       124\n",
       "Chinstrap     68\n",
       "Name: count, dtype: int64"
      ]
     },
     "execution_count": 17,
     "metadata": {},
     "output_type": "execute_result"
    }
   ],
   "source": [
    "penguins['species'].value_counts()"
   ]
  },
  {
   "cell_type": "code",
   "execution_count": 18,
   "id": "acfbe219",
   "metadata": {},
   "outputs": [
    {
     "data": {
      "text/plain": [
       "array([1., 0., 0., 1., 0., 0., 0., 0., 0., 0., 1., 0., 1., 1., 0., 1., 0.,\n",
       "       0., 1., 1., 1., 0., 0., 1., 1., 0., 1., 0., 1., 0., 0., 1., 1., 1.,\n",
       "       1., 1., 1., 0., 0., 0., 1., 1., 1., 1., 1., 1., 0., 1., 1., 1., 1.,\n",
       "       1., 1., 0., 0., 0., 1., 0., 0., 1., 0., 1., 1., 1., 0., 0., 1., 0.,\n",
       "       0., 0., 1., 1., 1., 1., 0., 1., 1., 0., 1., 1., 0., 1., 1., 0., 1.,\n",
       "       0., 1., 0., 1., 1., 1., 0., 1., 0., 0., 0., 0., 1., 1., 1., 1., 0.,\n",
       "       0., 0., 0., 1., 1., 1., 0., 0., 1., 0., 1., 0., 0., 1., 0., 1., 1.,\n",
       "       0., 0., 0., 1., 0., 1., 1., 0., 0., 1., 0., 1., 1., 1., 0., 1., 0.,\n",
       "       1., 1., 1., 1., 0., 0., 1., 0., 0., 0., 0., 1., 0., 1., 0., 1., 1.,\n",
       "       0., 0., 0., 0., 1., 1., 1., 0., 1., 0., 0., 1., 1., 0., 1., 1., 1.,\n",
       "       1., 1., 1., 1., 0., 0., 0., 0., 0., 1., 0., 0., 0., 1., 0., 0., 0.,\n",
       "       1., 1., 1., 0., 1., 0., 0., 1., 0., 1., 0., 1., 0., 0., 1., 0., 1.,\n",
       "       0., 1., 0., 1., 0., 0., 0., 0., 1., 1., 0., 0., 1., 1., 0., 1., 0.,\n",
       "       1., 0., 0., 1., 0., 1., 0., 1., 1., 0., 1., 0., 1., 1., 0., 1., 1.,\n",
       "       1., 1., 1., 0., 1., 0., 0., 0., 0., 1., 0., 0., 0., 0., 1., 1., 0.,\n",
       "       1., 0., 1., 1., 0., 1., 0., 0., 1., 1., 0., 0., 0., 0., 0., 1., 0.,\n",
       "       1., 1., 1., 0., 1., 0., 1., 1., 0., 0., 1., 0., 0., 0., 1., 1., 0.,\n",
       "       0., 0., 0., 1., 1., 1., 1., 1., 1., 1., 1., 1., 0., 1., 1., 1., 0.,\n",
       "       1., 0., 1., 1., 0., 1., 1., 1., 1., 1., 1., 0., 1., 1., 1., 0., 1.,\n",
       "       1., 0., 0., 1., 0., 1., 0., 0., 0., 0., 0., 0., 1., 0., 0., 1., 0.,\n",
       "       0., 1., 1., 1.], dtype=float32)"
      ]
     },
     "execution_count": 18,
     "metadata": {},
     "output_type": "execute_result"
    }
   ],
   "source": [
    "Y"
   ]
  },
  {
   "cell_type": "markdown",
   "id": "6bfdad9e",
   "metadata": {},
   "source": [
    "### converting categorical values to one hot encoder using pd.get_dummies"
   ]
  },
  {
   "cell_type": "code",
   "execution_count": 19,
   "id": "da7ce796",
   "metadata": {},
   "outputs": [
    {
     "data": {
      "text/html": [
       "<div>\n",
       "<style scoped>\n",
       "    .dataframe tbody tr th:only-of-type {\n",
       "        vertical-align: middle;\n",
       "    }\n",
       "\n",
       "    .dataframe tbody tr th {\n",
       "        vertical-align: top;\n",
       "    }\n",
       "\n",
       "    .dataframe thead th {\n",
       "        text-align: right;\n",
       "    }\n",
       "</style>\n",
       "<table border=\"1\" class=\"dataframe\">\n",
       "  <thead>\n",
       "    <tr style=\"text-align: right;\">\n",
       "      <th></th>\n",
       "      <th>bill_length_mm</th>\n",
       "      <th>bill_depth_mm</th>\n",
       "      <th>flipper_length_mm</th>\n",
       "      <th>body_mass_g</th>\n",
       "      <th>island_Biscoe</th>\n",
       "      <th>island_Dream</th>\n",
       "      <th>island_Torgersen</th>\n",
       "      <th>species_Adelie</th>\n",
       "      <th>species_Chinstrap</th>\n",
       "      <th>species_Gentoo</th>\n",
       "      <th>year_2007</th>\n",
       "      <th>year_2008</th>\n",
       "      <th>year_2009</th>\n",
       "    </tr>\n",
       "  </thead>\n",
       "  <tbody>\n",
       "    <tr>\n",
       "      <th>0</th>\n",
       "      <td>0.254545</td>\n",
       "      <td>0.666667</td>\n",
       "      <td>0.152542</td>\n",
       "      <td>0.291667</td>\n",
       "      <td>0.0</td>\n",
       "      <td>0.0</td>\n",
       "      <td>1.0</td>\n",
       "      <td>1.0</td>\n",
       "      <td>0.0</td>\n",
       "      <td>0.0</td>\n",
       "      <td>1.0</td>\n",
       "      <td>0.0</td>\n",
       "      <td>0.0</td>\n",
       "    </tr>\n",
       "    <tr>\n",
       "      <th>1</th>\n",
       "      <td>0.269091</td>\n",
       "      <td>0.511905</td>\n",
       "      <td>0.237288</td>\n",
       "      <td>0.305556</td>\n",
       "      <td>0.0</td>\n",
       "      <td>0.0</td>\n",
       "      <td>1.0</td>\n",
       "      <td>1.0</td>\n",
       "      <td>0.0</td>\n",
       "      <td>0.0</td>\n",
       "      <td>1.0</td>\n",
       "      <td>0.0</td>\n",
       "      <td>0.0</td>\n",
       "    </tr>\n",
       "    <tr>\n",
       "      <th>2</th>\n",
       "      <td>0.298182</td>\n",
       "      <td>0.583333</td>\n",
       "      <td>0.389831</td>\n",
       "      <td>0.152778</td>\n",
       "      <td>0.0</td>\n",
       "      <td>0.0</td>\n",
       "      <td>1.0</td>\n",
       "      <td>1.0</td>\n",
       "      <td>0.0</td>\n",
       "      <td>0.0</td>\n",
       "      <td>1.0</td>\n",
       "      <td>0.0</td>\n",
       "      <td>0.0</td>\n",
       "    </tr>\n",
       "    <tr>\n",
       "      <th>3</th>\n",
       "      <td>0.232727</td>\n",
       "      <td>0.660714</td>\n",
       "      <td>0.372881</td>\n",
       "      <td>0.180556</td>\n",
       "      <td>0.0</td>\n",
       "      <td>0.0</td>\n",
       "      <td>1.0</td>\n",
       "      <td>1.0</td>\n",
       "      <td>0.0</td>\n",
       "      <td>0.0</td>\n",
       "      <td>1.0</td>\n",
       "      <td>0.0</td>\n",
       "      <td>0.0</td>\n",
       "    </tr>\n",
       "    <tr>\n",
       "      <th>4</th>\n",
       "      <td>0.167273</td>\n",
       "      <td>0.738095</td>\n",
       "      <td>0.355932</td>\n",
       "      <td>0.208333</td>\n",
       "      <td>0.0</td>\n",
       "      <td>0.0</td>\n",
       "      <td>1.0</td>\n",
       "      <td>1.0</td>\n",
       "      <td>0.0</td>\n",
       "      <td>0.0</td>\n",
       "      <td>1.0</td>\n",
       "      <td>0.0</td>\n",
       "      <td>0.0</td>\n",
       "    </tr>\n",
       "  </tbody>\n",
       "</table>\n",
       "</div>"
      ],
      "text/plain": [
       "   bill_length_mm  bill_depth_mm  flipper_length_mm  body_mass_g  \\\n",
       "0        0.254545       0.666667           0.152542     0.291667   \n",
       "1        0.269091       0.511905           0.237288     0.305556   \n",
       "2        0.298182       0.583333           0.389831     0.152778   \n",
       "3        0.232727       0.660714           0.372881     0.180556   \n",
       "4        0.167273       0.738095           0.355932     0.208333   \n",
       "\n",
       "   island_Biscoe  island_Dream  island_Torgersen  species_Adelie  \\\n",
       "0            0.0           0.0               1.0             1.0   \n",
       "1            0.0           0.0               1.0             1.0   \n",
       "2            0.0           0.0               1.0             1.0   \n",
       "3            0.0           0.0               1.0             1.0   \n",
       "4            0.0           0.0               1.0             1.0   \n",
       "\n",
       "   species_Chinstrap  species_Gentoo  year_2007  year_2008  year_2009  \n",
       "0                0.0             0.0        1.0        0.0        0.0  \n",
       "1                0.0             0.0        1.0        0.0        0.0  \n",
       "2                0.0             0.0        1.0        0.0        0.0  \n",
       "3                0.0             0.0        1.0        0.0        0.0  \n",
       "4                0.0             0.0        1.0        0.0        0.0  "
      ]
     },
     "execution_count": 19,
     "metadata": {},
     "output_type": "execute_result"
    }
   ],
   "source": [
    "X = penguins.drop(['sex'], axis=1)\n",
    "\n",
    "X = pd.get_dummies(X, columns=['island', 'species', 'year'], dtype=float)\n",
    "\n",
    "X.head()"
   ]
  },
  {
   "cell_type": "code",
   "execution_count": 20,
   "id": "efcd7b4b",
   "metadata": {},
   "outputs": [
    {
     "name": "stdout",
     "output_type": "stream",
     "text": [
      "shape of input values of dataset (344, 13)\n"
     ]
    }
   ],
   "source": [
    "X = np.array(X)\n",
    "np.random.seed(14)\n",
    "np.random.shuffle(X)  #shuffling the dataset\n",
    "\n",
    "print(\"shape of input values of dataset\", X.shape)"
   ]
  },
  {
   "cell_type": "code",
   "execution_count": 21,
   "id": "e97ffe49",
   "metadata": {},
   "outputs": [
    {
     "data": {
      "text/plain": [
       "array([0.25090909, 0.47619048, 0.3220339 , 0.09722222, 0.        ,\n",
       "       0.        , 1.        , 1.        , 0.        , 0.        ,\n",
       "       0.        , 0.        , 1.        ])"
      ]
     },
     "execution_count": 21,
     "metadata": {},
     "output_type": "execute_result"
    }
   ],
   "source": [
    "X[200]"
   ]
  },
  {
   "cell_type": "markdown",
   "id": "cd4dbad1",
   "metadata": {},
   "source": [
    "### train and test data ( 80:20 split)"
   ]
  },
  {
   "cell_type": "code",
   "execution_count": 22,
   "id": "a0551ed0",
   "metadata": {},
   "outputs": [],
   "source": [
    "x_train , y_train = X[:int(len(Y)*0.8)] , Y[:int(len(Y)*0.8)]\n",
    "\n",
    "x_test, y_test = X[int(len(Y)*0.8):] , Y[int(len(Y)*0.8):]"
   ]
  },
  {
   "cell_type": "code",
   "execution_count": 23,
   "id": "bb5fd322",
   "metadata": {},
   "outputs": [
    {
     "name": "stdout",
     "output_type": "stream",
     "text": [
      "Shape of training data set (275, 13) and (275,)\n"
     ]
    }
   ],
   "source": [
    "print(\"Shape of training data set\", x_train.shape, 'and', y_train.shape)"
   ]
  },
  {
   "cell_type": "code",
   "execution_count": 24,
   "id": "0fa57f29",
   "metadata": {},
   "outputs": [
    {
     "name": "stdout",
     "output_type": "stream",
     "text": [
      "Shape of test dataset (69, 13) and (69,)\n"
     ]
    }
   ],
   "source": [
    "print(\"Shape of test dataset\", x_test.shape, 'and', y_test.shape)"
   ]
  },
  {
   "cell_type": "markdown",
   "id": "5538625f",
   "metadata": {},
   "source": [
    "# Logistic regression"
   ]
  },
  {
   "cell_type": "code",
   "execution_count": 25,
   "id": "91b36fc0",
   "metadata": {},
   "outputs": [],
   "source": [
    "\n",
    "\n",
    "class LogitRegression():\n",
    "    \n",
    "    def __init__(self, lr, epochs):\n",
    "        self.lr = lr\n",
    "        self.epochs = epochs\n",
    "\n",
    "    def fit(self, x_tr, y_tr):\n",
    "        \n",
    "        loss = []\n",
    "        \n",
    "        #initializing weights with random values between 0 and 1\n",
    "        np.random.seed(14)\n",
    "        self.opt_w = np.random.uniform(0, 1, x_tr.shape[1])    \n",
    "\n",
    "        for epoch in range(self.epochs):\n",
    "            #y-predicted values with the initial w, changing after every iteration\n",
    "            y_pred = self.sigmoid(np.dot(x_tr, self.opt_w))\n",
    "            \n",
    "            #calculating the optmial w\n",
    "            self.opt_w = self.opt_w - self.gradient_descent(y_tr, y_pred, x_tr)\n",
    "            \n",
    "            #calculating the loss\n",
    "            l = self.cost(y_tr, y_pred)\n",
    "\n",
    "            loss.append(l)\n",
    "            \n",
    "        return loss, self.opt_w\n",
    "\n",
    "            \n",
    "    def sigmoid(self,z):\n",
    "        return 1/(1 + np.exp(-z))\n",
    "    \n",
    "\n",
    "    def cost(self, y_tr, y_hat):\n",
    "        return (-y_tr * np.log(y_hat) - (1 - y_tr) * np.log(1 - y_hat)).mean()\n",
    "    \n",
    "\n",
    "    def gradient_descent(self, y_tr, y_hat, x_tr):\n",
    "        return self.lr * np.dot(x_tr.T, y_hat - y_tr) / len(y_tr)\n",
    "    \n",
    "\n",
    "    def predict(self, x_tr):\n",
    "        y_pred = self.sigmoid(np.dot(x_tr, self.opt_w))\n",
    "        \n",
    "        preds = [1 if p>=0.5 else 0 for p in y_pred]\n",
    "        return preds\n",
    "    \n",
    "\n",
    "    def accuracy(self, x_te, y_te):\n",
    "        y = self.predict(x_te)\n",
    "        preds = np.sum(y == y_te)\n",
    "        return preds / len(y_te)"
   ]
  },
  {
   "cell_type": "code",
   "execution_count": 76,
   "id": "52b3aef1",
   "metadata": {},
   "outputs": [
    {
     "data": {
      "text/plain": [
       "0.5652173913043478"
      ]
     },
     "execution_count": 76,
     "metadata": {},
     "output_type": "execute_result"
    }
   ],
   "source": [
    "\n",
    "model = LogitRegression(lr=0.000001, epochs=100000)\n",
    "loss, weight = model.fit(x_train, y_train)\n",
    "\n",
    "model.accuracy(x_test, y_test)"
   ]
  },
  {
   "cell_type": "code",
   "execution_count": 77,
   "id": "9fd66e71",
   "metadata": {
    "scrolled": true
   },
   "outputs": [
    {
     "data": {
      "text/plain": [
       "100000"
      ]
     },
     "execution_count": 77,
     "metadata": {},
     "output_type": "execute_result"
    }
   ],
   "source": [
    "len(loss)"
   ]
  },
  {
   "cell_type": "code",
   "execution_count": 78,
   "id": "bf70f750",
   "metadata": {},
   "outputs": [
    {
     "data": {
      "text/plain": [
       "array([ 0.49948205,  0.75760975,  0.85341898, -0.00430554,  0.29094661,\n",
       "        0.94241064,  0.50669585,  0.30099639,  0.52986033,  0.20747931,\n",
       "        0.79442121,  0.3275084 ,  0.52529194])"
      ]
     },
     "execution_count": 78,
     "metadata": {},
     "output_type": "execute_result"
    }
   ],
   "source": [
    "weight"
   ]
  },
  {
   "cell_type": "code",
   "execution_count": 79,
   "id": "9e778865",
   "metadata": {},
   "outputs": [
    {
     "data": {
      "image/png": "[encoded data removed]",
      "text/plain": [
       "<Figure size 500x500 with 1 Axes>"
      ]
     },
     "metadata": {},
     "output_type": "display_data"
    }
   ],
   "source": [
    "fig = plt.figure(1, figsize=(5, 5))\n",
    "plt.plot(loss)\n",
    "plt.grid()\n",
    "plt.xlabel(\"epochs\")\n",
    "plt.ylabel(\"loss\")\n",
    "plt.savefig(\"loss_3.png\", dpi=300, format='png')"
   ]
  },
  {
   "cell_type": "markdown",
   "id": "66a06899",
   "metadata": {},
   "source": [
    "***"
   ]
  },
  {
   "cell_type": "code",
   "execution_count": 83,
   "id": "d0c70cda",
   "metadata": {},
   "outputs": [
    {
     "data": {
      "text/plain": [
       "0.5652173913043478"
      ]
     },
     "execution_count": 83,
     "metadata": {},
     "output_type": "execute_result"
    }
   ],
   "source": [
    "\n",
    "model = LogitRegression(lr=0.0001, epochs=10000)\n",
    "loss, weight = model.fit(x_train, y_train)\n",
    "\n",
    "model.accuracy(x_test, y_test)"
   ]
  },
  {
   "cell_type": "code",
   "execution_count": 84,
   "id": "b87717e5",
   "metadata": {},
   "outputs": [
    {
     "data": {
      "text/plain": [
       "array([ 0.38106171,  0.62938443,  0.71490486, -0.10306809,  0.13930247,\n",
       "        0.81184046,  0.45299732,  0.15745751,  0.44859373,  0.09637194,\n",
       "        0.69258514,  0.20676353,  0.41196003])"
      ]
     },
     "execution_count": 84,
     "metadata": {},
     "output_type": "execute_result"
    }
   ],
   "source": [
    "weight"
   ]
  },
  {
   "cell_type": "code",
   "execution_count": 85,
   "id": "31a1ca76",
   "metadata": {},
   "outputs": [
    {
     "data": {
      "image/png": "[encoded data removed]",
      "text/plain": [
       "<Figure size 500x500 with 1 Axes>"
      ]
     },
     "metadata": {},
     "output_type": "display_data"
    }
   ],
   "source": [
    "fig = plt.figure(1, figsize=(5, 5))\n",
    "plt.plot(loss)\n",
    "plt.grid()\n",
    "plt.xlabel(\"epochs\")\n",
    "plt.ylabel(\"loss\")\n",
    "plt.savefig(\"loss_3.png\", dpi=300, format='png')"
   ]
  },
  {
   "cell_type": "markdown",
   "id": "53445c78",
   "metadata": {},
   "source": [
    "***"
   ]
  },
  {
   "cell_type": "code",
   "execution_count": 86,
   "id": "b41705db",
   "metadata": {
    "scrolled": true
   },
   "outputs": [],
   "source": [
    "\n",
    "model = LogitRegression(lr=0.1, epochs=1000)\n",
    "loss, weight = model.fit(x_train, y_train)"
   ]
  },
  {
   "cell_type": "code",
   "execution_count": 87,
   "id": "dc0b900a",
   "metadata": {},
   "outputs": [
    {
     "data": {
      "text/plain": [
       "0.855072463768116"
      ]
     },
     "execution_count": 87,
     "metadata": {},
     "output_type": "execute_result"
    }
   ],
   "source": [
    "model.accuracy(x_test, y_test)\n"
   ]
  },
  {
   "cell_type": "code",
   "execution_count": 88,
   "id": "9ae4349a",
   "metadata": {},
   "outputs": [
    {
     "data": {
      "text/plain": [
       "array([ 1.14552216,  2.07573718,  0.99024283,  1.79944377, -1.02293999,\n",
       "       -0.65896151, -0.63506599, -0.69106245, -1.23212117, -1.09550094,\n",
       "       -0.61846091, -0.94139628, -0.84994184])"
      ]
     },
     "execution_count": 88,
     "metadata": {},
     "output_type": "execute_result"
    }
   ],
   "source": [
    "weight"
   ]
  },
  {
   "cell_type": "code",
   "execution_count": 89,
   "id": "7543dd5b",
   "metadata": {
    "scrolled": false
   },
   "outputs": [
    {
     "data": {
      "image/png": "[encoded data removed]",
      "text/plain": [
       "<Figure size 500x500 with 1 Axes>"
      ]
     },
     "metadata": {},
     "output_type": "display_data"
    }
   ],
   "source": [
    "fig = plt.figure(1, figsize=(5, 5))\n",
    "plt.plot(loss)\n",
    "plt.grid()\n",
    "plt.xlabel(\"epochs\")\n",
    "plt.ylabel(\"loss\")\n",
    "plt.savefig(\"loss_3.png\", dpi=300, format='png')"
   ]
  },
  {
   "cell_type": "code",
   "execution_count": null,
   "id": "40d49d84",
   "metadata": {},
   "outputs": [],
   "source": []
  },
  {
   "cell_type": "code",
   "execution_count": null,
   "id": "cc121461",
   "metadata": {},
   "outputs": [],
   "source": []
  },
  {
   "cell_type": "markdown",
   "id": "40de7793",
   "metadata": {},
   "source": [
    "Refernces -   \n",
    "https://www.harsh17.in/classification-logistic-regression-and-random-forest/  \n",
    "https://github.com/DavoodSZ1993/CSE574-Intro-Machine-Learning/blob/main/    \n",
    "https://stackoverflow.com/questions/56758567/pandas-get-one-hot-encodings-from-a-column-as-booleans  \n",
    "https://stackoverflow.com/questions/5326112/how-to-round-each-item-in-a-list-of-floats-to-2-decimal-places  "
   ]
  },
  {
   "cell_type": "code",
   "execution_count": null,
   "id": "f3b1c5a2",
   "metadata": {},
   "outputs": [],
   "source": []
  }
 ],
 "metadata": {
  "kernelspec": {
   "display_name": "Python 3 (ipykernel)",
   "language": "python",
   "name": "python3"
  },
  "language_info": {
   "codemirror_mode": {
    "name": "ipython",
    "version": 3
   },
   "file_extension": ".py",
   "mimetype": "text/x-python",
   "name": "python",
   "nbconvert_exporter": "python",
   "pygments_lexer": "ipython3",
   "version": "3.11.5"
  }
 },
 "nbformat": 4,
 "nbformat_minor": 5
}
